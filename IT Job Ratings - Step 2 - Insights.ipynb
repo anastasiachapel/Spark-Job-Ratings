{
 "cells": [
  {
   "cell_type": "markdown",
   "id": "44f0892e-f5b0-4c06-a8ed-26478eebecb4",
   "metadata": {},
   "source": [
    "## Setting Global Config"
   ]
  },
  {
   "cell_type": "code",
   "execution_count": 1,
   "id": "8cd89dab-b088-49e6-a7a4-6bca3386c97c",
   "metadata": {},
   "outputs": [],
   "source": [
    "import pandas as pd\n",
    "pd.set_option('display.max_colwidth', None)"
   ]
  },
  {
   "cell_type": "code",
   "execution_count": 2,
   "id": "08d22580-4659-417a-9b8a-47c0c1565497",
   "metadata": {},
   "outputs": [],
   "source": [
    "import numpy as np\n",
    "np.bool = np.bool_"
   ]
  },
  {
   "cell_type": "code",
   "execution_count": 3,
   "id": "5a8196db-454a-4087-bf5d-da3b0a961dea",
   "metadata": {},
   "outputs": [],
   "source": [
    "#current notebook name\n",
    "notebook_name = __session__.replace('.ipynb','')[__session__.rfind('/')+1:] "
   ]
  },
  {
   "cell_type": "code",
   "execution_count": 4,
   "id": "631c45af-ae1f-4091-a2ce-4a1fb1ddc5f0",
   "metadata": {},
   "outputs": [],
   "source": [
    "# HDFS base paths\n",
    "hdfs_lakehouse_base_path = 'hdfs://localhost:9000/lakehouse/'\n",
    "hdfs_warehouse_base_path = 'hdfs://localhost:9000/warehouse'"
   ]
  },
  {
   "cell_type": "markdown",
   "id": "4f3c3b53-8815-4cae-8bcb-564f616874c8",
   "metadata": {},
   "source": [
    "## Creating SparkSession"
   ]
  },
  {
   "cell_type": "code",
   "execution_count": 5,
   "id": "0eb66c73-070d-4923-b18c-7078088b991f",
   "metadata": {},
   "outputs": [],
   "source": [
    "import os\n",
    "dependencies = [\"org.apache.spark:spark-avro_2.12:3.5.0\",\n",
    "                \"io.delta:delta-iceberg_2.12:3.0.0\"]\n",
    "os.environ['PYSPARK_SUBMIT_ARGS']= f\"--packages {','.join(dependencies)} pyspark-shell\"\n",
    "os.environ['PYARROW_IGNORE_TIMEZONE'] = 'true'"
   ]
  },
  {
   "cell_type": "code",
   "execution_count": 6,
   "id": "ba79f728-d9c0-4514-9330-12dd987344d3",
   "metadata": {},
   "outputs": [
    {
     "name": "stderr",
     "output_type": "stream",
     "text": [
      "24/12/15 03:49:33 WARN Utils: Your hostname, osbdet resolves to a loopback address: 127.0.0.1; using 10.0.2.15 instead (on interface enp0s3)\n",
      "24/12/15 03:49:33 WARN Utils: Set SPARK_LOCAL_IP if you need to bind to another address\n"
     ]
    },
    {
     "name": "stdout",
     "output_type": "stream",
     "text": [
      ":: loading settings :: url = jar:file:/home/osbdet/.jupyter_venv/lib/python3.11/site-packages/pyspark/jars/ivy-2.5.1.jar!/org/apache/ivy/core/settings/ivysettings.xml\n"
     ]
    },
    {
     "name": "stderr",
     "output_type": "stream",
     "text": [
      "Ivy Default Cache set to: /home/osbdet/.ivy2/cache\n",
      "The jars for the packages stored in: /home/osbdet/.ivy2/jars\n",
      "org.apache.spark#spark-avro_2.12 added as a dependency\n",
      "io.delta#delta-iceberg_2.12 added as a dependency\n",
      ":: resolving dependencies :: org.apache.spark#spark-submit-parent-831fc378-567a-4b20-99a5-031e597c58d7;1.0\n",
      "\tconfs: [default]\n",
      "\tfound org.apache.spark#spark-avro_2.12;3.5.0 in central\n",
      "\tfound org.tukaani#xz;1.9 in central\n",
      "\tfound io.delta#delta-iceberg_2.12;3.0.0 in central\n",
      "\tfound io.delta#delta-spark_2.12;3.0.0 in central\n",
      "\tfound io.delta#delta-storage;3.0.0 in central\n",
      "\tfound org.antlr#antlr4-runtime;4.9.3 in central\n",
      "\tfound org.scala-lang.modules#scala-collection-compat_2.12;2.1.1 in central\n",
      "\tfound com.github.ben-manes.caffeine#caffeine;2.9.3 in central\n",
      "\tfound org.checkerframework#checker-qual;3.19.0 in central\n",
      "\tfound com.google.errorprone#error_prone_annotations;2.10.0 in central\n",
      ":: resolution report :: resolve 1755ms :: artifacts dl 92ms\n",
      "\t:: modules in use:\n",
      "\tcom.github.ben-manes.caffeine#caffeine;2.9.3 from central in [default]\n",
      "\tcom.google.errorprone#error_prone_annotations;2.10.0 from central in [default]\n",
      "\tio.delta#delta-iceberg_2.12;3.0.0 from central in [default]\n",
      "\tio.delta#delta-spark_2.12;3.0.0 from central in [default]\n",
      "\tio.delta#delta-storage;3.0.0 from central in [default]\n",
      "\torg.antlr#antlr4-runtime;4.9.3 from central in [default]\n",
      "\torg.apache.spark#spark-avro_2.12;3.5.0 from central in [default]\n",
      "\torg.checkerframework#checker-qual;3.19.0 from central in [default]\n",
      "\torg.scala-lang.modules#scala-collection-compat_2.12;2.1.1 from central in [default]\n",
      "\torg.tukaani#xz;1.9 from central in [default]\n",
      "\t---------------------------------------------------------------------\n",
      "\t|                  |            modules            ||   artifacts   |\n",
      "\t|       conf       | number| search|dwnlded|evicted|| number|dwnlded|\n",
      "\t---------------------------------------------------------------------\n",
      "\t|      default     |   10  |   0   |   0   |   0   ||   10  |   0   |\n",
      "\t---------------------------------------------------------------------\n",
      ":: retrieving :: org.apache.spark#spark-submit-parent-831fc378-567a-4b20-99a5-031e597c58d7\n",
      "\tconfs: [default]\n",
      "\t0 artifacts copied, 10 already retrieved (0kB/18ms)\n",
      "24/12/15 03:49:47 WARN NativeCodeLoader: Unable to load native-hadoop library for your platform... using builtin-java classes where applicable\n",
      "Setting default log level to \"WARN\".\n",
      "To adjust logging level use sc.setLogLevel(newLevel). For SparkR, use setLogLevel(newLevel).\n",
      "Setting Spark log level to \"ERROR\".\n"
     ]
    }
   ],
   "source": [
    "from pyspark.sql.session import SparkSession\n",
    "\n",
    "spark = (SparkSession.builder\n",
    "    .appName(notebook_name)\n",
    "    .config(\"spark.log.level\",\"ERROR\")\n",
    "    .config(\"spark.sql.warehouse.dir\",hdfs_warehouse_base_path)\n",
    "    .config(\"spark.sql.extensions\", \"io.delta.sql.DeltaSparkSessionExtension\")\n",
    "    .config(\"spark.sql.catalog.spark_catalog\", \"org.apache.spark.sql.delta.catalog.DeltaCatalog\")\n",
    "    .enableHiveSupport()\n",
    "    .getOrCreate()\n",
    ")"
   ]
  },
  {
   "cell_type": "markdown",
   "id": "071caa09-e980-4885-a65f-b815c62d3ce6",
   "metadata": {},
   "source": [
    "## Listing current database"
   ]
  },
  {
   "cell_type": "code",
   "execution_count": 7,
   "id": "98d2bfed-9f51-400d-b0dc-8edbc8c03865",
   "metadata": {},
   "outputs": [
    {
     "name": "stdout",
     "output_type": "stream",
     "text": [
      "Execution time: 1.98 seconds\n"
     ]
    },
    {
     "name": "stderr",
     "output_type": "stream",
     "text": [
      "                                                                                \r"
     ]
    },
    {
     "data": {
      "application/vnd.jupyter.widget-view+json": {
       "model_id": "cc7f1008c86f42109ed4f08df92d7b1d",
       "version_major": 2,
       "version_minor": 0
      },
      "text/plain": [
       "SparkSchemaWidget(nodes=(Node(close_icon='angle-down', close_icon_style='danger', icon='project-diagram', icon…"
      ]
     },
     "metadata": {},
     "output_type": "display_data"
    },
    {
     "data": {
      "text/html": [
       "<a class=\"external\" href=\"http://10.0.2.15:4040\" target=\"_blank\" >Open Spark UI ⭐ IT Job Ratings - Step 2 - Insights</a>"
      ],
      "text/plain": [
       "<IPython.core.display.HTML object>"
      ]
     },
     "metadata": {},
     "output_type": "display_data"
    },
    {
     "data": {
      "text/html": [
       "<table><table border='1'>\n",
       "<tr><th>namespace</th></tr>\n",
       "<tr><td>default</td></tr>\n",
       "<tr><td>it_job_ratings</td></tr>\n",
       "<tr><td>movie_recommender</td></tr>\n",
       "<tr><td>movielens</td></tr>\n",
       "<tr><td>pokemon</td></tr>\n",
       "</table>\n",
       "</table>"
      ],
      "text/plain": [
       "<IPython.core.display.HTML object>"
      ]
     },
     "metadata": {},
     "output_type": "display_data"
    }
   ],
   "source": [
    "%%sparksql\n",
    "show databases"
   ]
  },
  {
   "cell_type": "code",
   "execution_count": 8,
   "id": "23d97d91-5553-4bda-8541-2e85095f3706",
   "metadata": {},
   "outputs": [
    {
     "name": "stdout",
     "output_type": "stream",
     "text": [
      "Execution time: 0.13 seconds\n"
     ]
    },
    {
     "name": "stderr",
     "output_type": "stream",
     "text": [
      "                                                                                \r"
     ]
    },
    {
     "data": {
      "application/vnd.jupyter.widget-view+json": {
       "model_id": "e00b62fa1be44376ba036f205cad5f36",
       "version_major": 2,
       "version_minor": 0
      },
      "text/plain": [
       "SparkSchemaWidget(nodes=(Node(close_icon='angle-down', close_icon_style='danger', icon='project-diagram', icon…"
      ]
     },
     "metadata": {},
     "output_type": "display_data"
    },
    {
     "data": {
      "text/html": [
       "<a class=\"external\" href=\"http://10.0.2.15:4040\" target=\"_blank\" >Open Spark UI ⭐ IT Job Ratings - Step 2 - Insights</a>"
      ],
      "text/plain": [
       "<IPython.core.display.HTML object>"
      ]
     },
     "metadata": {},
     "output_type": "display_data"
    },
    {
     "data": {
      "text/html": [
       "<table><table border='1'>\n",
       "<tr><th></th></tr>\n",
       "</table>\n",
       "</table>"
      ],
      "text/plain": [
       "<IPython.core.display.HTML object>"
      ]
     },
     "metadata": {},
     "output_type": "display_data"
    }
   ],
   "source": [
    "%%sparksql\n",
    "use it_job_ratings"
   ]
  },
  {
   "cell_type": "code",
   "execution_count": 9,
   "id": "b750a57c-2d97-45c0-9ed6-1a5c75a62614",
   "metadata": {},
   "outputs": [
    {
     "name": "stdout",
     "output_type": "stream",
     "text": [
      "Execution time: 0.31 seconds\n"
     ]
    },
    {
     "name": "stderr",
     "output_type": "stream",
     "text": [
      "                                                                                \r"
     ]
    },
    {
     "data": {
      "application/vnd.jupyter.widget-view+json": {
       "model_id": "f804f53c8f134ce496b2efb3bbd6661c",
       "version_major": 2,
       "version_minor": 0
      },
      "text/plain": [
       "SparkSchemaWidget(nodes=(Node(close_icon='angle-down', close_icon_style='danger', icon='project-diagram', icon…"
      ]
     },
     "metadata": {},
     "output_type": "display_data"
    },
    {
     "data": {
      "text/html": [
       "<a class=\"external\" href=\"http://10.0.2.15:4040\" target=\"_blank\" >Open Spark UI ⭐ IT Job Ratings - Step 2 - Insights</a>"
      ],
      "text/plain": [
       "<IPython.core.display.HTML object>"
      ]
     },
     "metadata": {},
     "output_type": "display_data"
    },
    {
     "data": {
      "text/html": [
       "<table><table border='1'>\n",
       "<tr><th>namespace</th><th>tableName</th><th>isTemporary</th></tr>\n",
       "<tr><td>it_job_ratings</td><td>job_ratings</td><td>False</td></tr>\n",
       "<tr><td>it_job_ratings</td><td>review_scores</td><td>False</td></tr>\n",
       "</table>\n",
       "</table>"
      ],
      "text/plain": [
       "<IPython.core.display.HTML object>"
      ]
     },
     "metadata": {},
     "output_type": "display_data"
    }
   ],
   "source": [
    "%%sparksql\n",
    "show tables"
   ]
  },
  {
   "cell_type": "markdown",
   "id": "4ed9c635-60e2-449b-a882-7bc7d67e9c3e",
   "metadata": {},
   "source": [
    "## Identifying Industry Growth or Declining\n",
    "based on job postings"
   ]
  },
  {
   "cell_type": "code",
   "execution_count": 10,
   "id": "c4cea4ac-ed10-446c-bde5-821797731758",
   "metadata": {},
   "outputs": [
    {
     "name": "stderr",
     "output_type": "stream",
     "text": [
      "                                                                                \r"
     ]
    }
   ],
   "source": [
    "highest_growth_industries = spark.sql(\"select industry, sum(jobs) as job_postings from it_job_ratings.job_ratings group by industry order by sum(jobs) desc limit 10\").toPandas()"
   ]
  },
  {
   "cell_type": "code",
   "execution_count": 11,
   "id": "465c3090-7d96-4859-b366-1f038a7015d2",
   "metadata": {},
   "outputs": [
    {
     "data": {
      "text/html": [
       "<div>\n",
       "<style scoped>\n",
       "    .dataframe tbody tr th:only-of-type {\n",
       "        vertical-align: middle;\n",
       "    }\n",
       "\n",
       "    .dataframe tbody tr th {\n",
       "        vertical-align: top;\n",
       "    }\n",
       "\n",
       "    .dataframe thead th {\n",
       "        text-align: right;\n",
       "    }\n",
       "</style>\n",
       "<table border=\"1\" class=\"dataframe\">\n",
       "  <thead>\n",
       "    <tr style=\"text-align: right;\">\n",
       "      <th></th>\n",
       "      <th>industry</th>\n",
       "      <th>job_postings</th>\n",
       "    </tr>\n",
       "  </thead>\n",
       "  <tbody>\n",
       "    <tr>\n",
       "      <th>0</th>\n",
       "      <td>Consulting</td>\n",
       "      <td>39185</td>\n",
       "    </tr>\n",
       "    <tr>\n",
       "      <th>1</th>\n",
       "      <td>Information Technology</td>\n",
       "      <td>12074</td>\n",
       "    </tr>\n",
       "    <tr>\n",
       "      <th>2</th>\n",
       "      <td>Financial Services</td>\n",
       "      <td>3001</td>\n",
       "    </tr>\n",
       "    <tr>\n",
       "      <th>3</th>\n",
       "      <td>Business Process Outsourcing</td>\n",
       "      <td>2899</td>\n",
       "    </tr>\n",
       "    <tr>\n",
       "      <th>4</th>\n",
       "      <td>Insurance</td>\n",
       "      <td>2693</td>\n",
       "    </tr>\n",
       "    <tr>\n",
       "      <th>5</th>\n",
       "      <td>Banking &amp; Financial Services</td>\n",
       "      <td>2513</td>\n",
       "    </tr>\n",
       "    <tr>\n",
       "      <th>6</th>\n",
       "      <td>Telecommunications</td>\n",
       "      <td>2011</td>\n",
       "    </tr>\n",
       "    <tr>\n",
       "      <th>7</th>\n",
       "      <td>Banking</td>\n",
       "      <td>1922</td>\n",
       "    </tr>\n",
       "    <tr>\n",
       "      <th>8</th>\n",
       "      <td>Pharmaceuticals</td>\n",
       "      <td>1554</td>\n",
       "    </tr>\n",
       "    <tr>\n",
       "      <th>9</th>\n",
       "      <td>E-Commerce</td>\n",
       "      <td>1313</td>\n",
       "    </tr>\n",
       "  </tbody>\n",
       "</table>\n",
       "</div>"
      ],
      "text/plain": [
       "                       industry  job_postings\n",
       "0                    Consulting         39185\n",
       "1        Information Technology         12074\n",
       "2            Financial Services          3001\n",
       "3  Business Process Outsourcing          2899\n",
       "4                     Insurance          2693\n",
       "5  Banking & Financial Services          2513\n",
       "6            Telecommunications          2011\n",
       "7                       Banking          1922\n",
       "8               Pharmaceuticals          1554\n",
       "9                    E-Commerce          1313"
      ]
     },
     "execution_count": 11,
     "metadata": {},
     "output_type": "execute_result"
    }
   ],
   "source": [
    "highest_growth_industries"
   ]
  },
  {
   "cell_type": "code",
   "execution_count": 12,
   "id": "66fe8913-7d15-4303-8043-cdc5dac06748",
   "metadata": {},
   "outputs": [
    {
     "name": "stderr",
     "output_type": "stream",
     "text": [
      "                                                                                \r"
     ]
    }
   ],
   "source": [
    "lowest_growth_industries = spark.sql(\"select industry, sum(jobs) as job_postings from it_job_ratings.job_ratings group by industry order by sum(jobs) asc limit 10\").toPandas()\n",
    "lowest_growth_industries = lowest_growth_industries.sort_values(by='job_postings', ascending=False)"
   ]
  },
  {
   "cell_type": "code",
   "execution_count": 13,
   "id": "15bdf82f-d10d-49f3-8a64-499056908217",
   "metadata": {},
   "outputs": [
    {
     "data": {
      "text/html": [
       "<div>\n",
       "<style scoped>\n",
       "    .dataframe tbody tr th:only-of-type {\n",
       "        vertical-align: middle;\n",
       "    }\n",
       "\n",
       "    .dataframe tbody tr th {\n",
       "        vertical-align: top;\n",
       "    }\n",
       "\n",
       "    .dataframe thead th {\n",
       "        text-align: right;\n",
       "    }\n",
       "</style>\n",
       "<table border=\"1\" class=\"dataframe\">\n",
       "  <thead>\n",
       "    <tr style=\"text-align: right;\">\n",
       "      <th></th>\n",
       "      <th>industry</th>\n",
       "      <th>job_postings</th>\n",
       "    </tr>\n",
       "  </thead>\n",
       "  <tbody>\n",
       "    <tr>\n",
       "      <th>8</th>\n",
       "      <td>Travel &amp; Tourism</td>\n",
       "      <td>14</td>\n",
       "    </tr>\n",
       "    <tr>\n",
       "      <th>9</th>\n",
       "      <td>Aerospace &amp; Defense</td>\n",
       "      <td>14</td>\n",
       "    </tr>\n",
       "    <tr>\n",
       "      <th>7</th>\n",
       "      <td>Agriculture Technology</td>\n",
       "      <td>9</td>\n",
       "    </tr>\n",
       "    <tr>\n",
       "      <th>6</th>\n",
       "      <td>Electronics Manufacturing</td>\n",
       "      <td>8</td>\n",
       "    </tr>\n",
       "    <tr>\n",
       "      <th>5</th>\n",
       "      <td>Oil &amp; Gas</td>\n",
       "      <td>6</td>\n",
       "    </tr>\n",
       "    <tr>\n",
       "      <th>0</th>\n",
       "      <td>Government &amp; Defense</td>\n",
       "      <td>0</td>\n",
       "    </tr>\n",
       "    <tr>\n",
       "      <th>1</th>\n",
       "      <td>Construction Machinery</td>\n",
       "      <td>0</td>\n",
       "    </tr>\n",
       "    <tr>\n",
       "      <th>2</th>\n",
       "      <td>E-Commerce &amp; Logistics</td>\n",
       "      <td>0</td>\n",
       "    </tr>\n",
       "    <tr>\n",
       "      <th>3</th>\n",
       "      <td>Non-Profit Organization</td>\n",
       "      <td>0</td>\n",
       "    </tr>\n",
       "    <tr>\n",
       "      <th>4</th>\n",
       "      <td>Transportation</td>\n",
       "      <td>0</td>\n",
       "    </tr>\n",
       "  </tbody>\n",
       "</table>\n",
       "</div>"
      ],
      "text/plain": [
       "                    industry  job_postings\n",
       "8           Travel & Tourism            14\n",
       "9        Aerospace & Defense            14\n",
       "7     Agriculture Technology             9\n",
       "6  Electronics Manufacturing             8\n",
       "5                  Oil & Gas             6\n",
       "0       Government & Defense             0\n",
       "1     Construction Machinery             0\n",
       "2     E-Commerce & Logistics             0\n",
       "3    Non-Profit Organization             0\n",
       "4             Transportation             0"
      ]
     },
     "execution_count": 13,
     "metadata": {},
     "output_type": "execute_result"
    }
   ],
   "source": [
    "lowest_growth_industries"
   ]
  },
  {
   "cell_type": "markdown",
   "id": "ee33ae28-e58e-4e5a-bc13-fea02cdbd59c",
   "metadata": {},
   "source": [
    "## Identifying best rated companies"
   ]
  },
  {
   "cell_type": "code",
   "execution_count": 14,
   "id": "e373c6f2-b46e-4ed7-8cfb-40354b2fe269",
   "metadata": {},
   "outputs": [
    {
     "name": "stderr",
     "output_type": "stream",
     "text": [
      "                                                                                \r"
     ]
    }
   ],
   "source": [
    "best_ratings_company_industry = spark.sql(\"\"\"\n",
    "SELECT company_name, rating, reviews, industry\n",
    "FROM it_job_ratings.job_ratings\n",
    "WHERE rating > 4\n",
    "AND reviews > (\n",
    "    SELECT AVG(reviews)\n",
    "    FROM it_job_ratings.job_ratings\n",
    "    WHERE rating > 4\n",
    ")\n",
    "\"\"\").toPandas()"
   ]
  },
  {
   "cell_type": "code",
   "execution_count": 15,
   "id": "c72e441d-4d71-4492-9193-eb3b176826ea",
   "metadata": {},
   "outputs": [],
   "source": [
    "best_rated_companies = best_ratings_company_industry[[\"company_name\", \"rating\", \"reviews\"]].sort_values(by='reviews', ascending=False).head(10)"
   ]
  },
  {
   "cell_type": "code",
   "execution_count": 16,
   "id": "2f40673b-d65a-409a-a0ea-82f22069a77f",
   "metadata": {},
   "outputs": [
    {
     "data": {
      "text/html": [
       "<div>\n",
       "<style scoped>\n",
       "    .dataframe tbody tr th:only-of-type {\n",
       "        vertical-align: middle;\n",
       "    }\n",
       "\n",
       "    .dataframe tbody tr th {\n",
       "        vertical-align: top;\n",
       "    }\n",
       "\n",
       "    .dataframe thead th {\n",
       "        text-align: right;\n",
       "    }\n",
       "</style>\n",
       "<table border=\"1\" class=\"dataframe\">\n",
       "  <thead>\n",
       "    <tr style=\"text-align: right;\">\n",
       "      <th></th>\n",
       "      <th>company_name</th>\n",
       "      <th>rating</th>\n",
       "      <th>reviews</th>\n",
       "    </tr>\n",
       "  </thead>\n",
       "  <tbody>\n",
       "    <tr>\n",
       "      <th>0</th>\n",
       "      <td>Amazon</td>\n",
       "      <td>4.1</td>\n",
       "      <td>23800</td>\n",
       "    </tr>\n",
       "    <tr>\n",
       "      <th>1</th>\n",
       "      <td>IBM</td>\n",
       "      <td>4.1</td>\n",
       "      <td>20900</td>\n",
       "    </tr>\n",
       "    <tr>\n",
       "      <th>2</th>\n",
       "      <td>iEnergizer</td>\n",
       "      <td>4.7</td>\n",
       "      <td>19500</td>\n",
       "    </tr>\n",
       "    <tr>\n",
       "      <th>3</th>\n",
       "      <td>Vodafone Idea</td>\n",
       "      <td>4.1</td>\n",
       "      <td>14800</td>\n",
       "    </tr>\n",
       "    <tr>\n",
       "      <th>4</th>\n",
       "      <td>Tata Motors</td>\n",
       "      <td>4.2</td>\n",
       "      <td>11200</td>\n",
       "    </tr>\n",
       "    <tr>\n",
       "      <th>35</th>\n",
       "      <td>AU Small Finance Bank</td>\n",
       "      <td>4.3</td>\n",
       "      <td>9400</td>\n",
       "    </tr>\n",
       "    <tr>\n",
       "      <th>34</th>\n",
       "      <td>Mahindra &amp; Mahindra</td>\n",
       "      <td>4.1</td>\n",
       "      <td>9400</td>\n",
       "    </tr>\n",
       "    <tr>\n",
       "      <th>5</th>\n",
       "      <td>Maruti Suzuki</td>\n",
       "      <td>4.2</td>\n",
       "      <td>7100</td>\n",
       "    </tr>\n",
       "    <tr>\n",
       "      <th>6</th>\n",
       "      <td>Ericsson</td>\n",
       "      <td>4.2</td>\n",
       "      <td>6800</td>\n",
       "    </tr>\n",
       "    <tr>\n",
       "      <th>7</th>\n",
       "      <td>Shriram Finance</td>\n",
       "      <td>4.1</td>\n",
       "      <td>6700</td>\n",
       "    </tr>\n",
       "  </tbody>\n",
       "</table>\n",
       "</div>"
      ],
      "text/plain": [
       "             company_name  rating  reviews\n",
       "0                  Amazon     4.1    23800\n",
       "1                     IBM     4.1    20900\n",
       "2              iEnergizer     4.7    19500\n",
       "3           Vodafone Idea     4.1    14800\n",
       "4             Tata Motors     4.2    11200\n",
       "35  AU Small Finance Bank     4.3     9400\n",
       "34    Mahindra & Mahindra     4.1     9400\n",
       "5           Maruti Suzuki     4.2     7100\n",
       "6                Ericsson     4.2     6800\n",
       "7         Shriram Finance     4.1     6700"
      ]
     },
     "execution_count": 16,
     "metadata": {},
     "output_type": "execute_result"
    }
   ],
   "source": [
    "best_rated_companies"
   ]
  },
  {
   "cell_type": "markdown",
   "id": "240feea4-313a-419e-b1e1-bbac51ef10b8",
   "metadata": {},
   "source": [
    "## Identifying best rated industries"
   ]
  },
  {
   "cell_type": "code",
   "execution_count": 17,
   "id": "0bc00efd-b2c8-4c6f-96e2-7b0548725663",
   "metadata": {},
   "outputs": [],
   "source": [
    "best_rated_industries = best_ratings_company_industry.groupby('industry')[[\"reviews\"]].sum().sort_values('reviews', ascending=False).reset_index().head(10)"
   ]
  },
  {
   "cell_type": "code",
   "execution_count": 18,
   "id": "9cd229e3-d206-468d-be42-c95f72809d44",
   "metadata": {},
   "outputs": [
    {
     "data": {
      "text/html": [
       "<div>\n",
       "<style scoped>\n",
       "    .dataframe tbody tr th:only-of-type {\n",
       "        vertical-align: middle;\n",
       "    }\n",
       "\n",
       "    .dataframe tbody tr th {\n",
       "        vertical-align: top;\n",
       "    }\n",
       "\n",
       "    .dataframe thead th {\n",
       "        text-align: right;\n",
       "    }\n",
       "</style>\n",
       "<table border=\"1\" class=\"dataframe\">\n",
       "  <thead>\n",
       "    <tr style=\"text-align: right;\">\n",
       "      <th></th>\n",
       "      <th>industry</th>\n",
       "      <th>reviews</th>\n",
       "    </tr>\n",
       "  </thead>\n",
       "  <tbody>\n",
       "    <tr>\n",
       "      <th>0</th>\n",
       "      <td>Automotive</td>\n",
       "      <td>43000</td>\n",
       "    </tr>\n",
       "    <tr>\n",
       "      <th>1</th>\n",
       "      <td>Pharmaceuticals</td>\n",
       "      <td>38800</td>\n",
       "    </tr>\n",
       "    <tr>\n",
       "      <th>2</th>\n",
       "      <td>Financial Services</td>\n",
       "      <td>33600</td>\n",
       "    </tr>\n",
       "    <tr>\n",
       "      <th>3</th>\n",
       "      <td>Information Technology</td>\n",
       "      <td>28000</td>\n",
       "    </tr>\n",
       "    <tr>\n",
       "      <th>4</th>\n",
       "      <td>Telecommunications</td>\n",
       "      <td>24800</td>\n",
       "    </tr>\n",
       "    <tr>\n",
       "      <th>5</th>\n",
       "      <td>E-Commerce &amp; Cloud Computing</td>\n",
       "      <td>23800</td>\n",
       "    </tr>\n",
       "    <tr>\n",
       "      <th>6</th>\n",
       "      <td>Engineering &amp; Construction</td>\n",
       "      <td>19900</td>\n",
       "    </tr>\n",
       "    <tr>\n",
       "      <th>7</th>\n",
       "      <td>Customer Support Services</td>\n",
       "      <td>19500</td>\n",
       "    </tr>\n",
       "    <tr>\n",
       "      <th>8</th>\n",
       "      <td>Banking</td>\n",
       "      <td>18400</td>\n",
       "    </tr>\n",
       "    <tr>\n",
       "      <th>9</th>\n",
       "      <td>Engineering &amp; Electronics</td>\n",
       "      <td>17000</td>\n",
       "    </tr>\n",
       "  </tbody>\n",
       "</table>\n",
       "</div>"
      ],
      "text/plain": [
       "                       industry  reviews\n",
       "0                    Automotive    43000\n",
       "1               Pharmaceuticals    38800\n",
       "2            Financial Services    33600\n",
       "3        Information Technology    28000\n",
       "4            Telecommunications    24800\n",
       "5  E-Commerce & Cloud Computing    23800\n",
       "6    Engineering & Construction    19900\n",
       "7     Customer Support Services    19500\n",
       "8                       Banking    18400\n",
       "9     Engineering & Electronics    17000"
      ]
     },
     "execution_count": 18,
     "metadata": {},
     "output_type": "execute_result"
    }
   ],
   "source": [
    "best_rated_industries"
   ]
  },
  {
   "cell_type": "markdown",
   "id": "9a014d0d-f5bb-4a82-999e-c043ae93ff10",
   "metadata": {},
   "source": [
    "## Identifying best companies to work for (good salary/benefits and work life balance)"
   ]
  },
  {
   "cell_type": "code",
   "execution_count": 20,
   "id": "3fa3f8b3-bdab-4cc8-955e-4691549668b5",
   "metadata": {},
   "outputs": [
    {
     "name": "stderr",
     "output_type": "stream",
     "text": [
      "                                                                                \r"
     ]
    },
    {
     "data": {
      "text/html": [
       "<div>\n",
       "<style scoped>\n",
       "    .dataframe tbody tr th:only-of-type {\n",
       "        vertical-align: middle;\n",
       "    }\n",
       "\n",
       "    .dataframe tbody tr th {\n",
       "        vertical-align: top;\n",
       "    }\n",
       "\n",
       "    .dataframe thead th {\n",
       "        text-align: right;\n",
       "    }\n",
       "</style>\n",
       "<table border=\"1\" class=\"dataframe\">\n",
       "  <thead>\n",
       "    <tr style=\"text-align: right;\">\n",
       "      <th></th>\n",
       "      <th>company_name</th>\n",
       "      <th>overall_score</th>\n",
       "      <th>good_work_life_balance</th>\n",
       "      <th>good_salary_and_benefits</th>\n",
       "      <th>rating</th>\n",
       "      <th>reviews</th>\n",
       "    </tr>\n",
       "  </thead>\n",
       "  <tbody>\n",
       "    <tr>\n",
       "      <th>0</th>\n",
       "      <td>Amazon</td>\n",
       "      <td>3</td>\n",
       "      <td>1</td>\n",
       "      <td>1</td>\n",
       "      <td>4.1</td>\n",
       "      <td>23800</td>\n",
       "    </tr>\n",
       "    <tr>\n",
       "      <th>1</th>\n",
       "      <td>Vodafone Idea</td>\n",
       "      <td>3</td>\n",
       "      <td>1</td>\n",
       "      <td>1</td>\n",
       "      <td>4.1</td>\n",
       "      <td>14800</td>\n",
       "    </tr>\n",
       "    <tr>\n",
       "      <th>2</th>\n",
       "      <td>Cipla</td>\n",
       "      <td>3</td>\n",
       "      <td>1</td>\n",
       "      <td>1</td>\n",
       "      <td>4.1</td>\n",
       "      <td>6500</td>\n",
       "    </tr>\n",
       "    <tr>\n",
       "      <th>3</th>\n",
       "      <td>Intas Pharmaceuticals</td>\n",
       "      <td>3</td>\n",
       "      <td>1</td>\n",
       "      <td>1</td>\n",
       "      <td>4.1</td>\n",
       "      <td>3200</td>\n",
       "    </tr>\n",
       "    <tr>\n",
       "      <th>4</th>\n",
       "      <td>Viatris</td>\n",
       "      <td>3</td>\n",
       "      <td>1</td>\n",
       "      <td>1</td>\n",
       "      <td>4.2</td>\n",
       "      <td>2900</td>\n",
       "    </tr>\n",
       "    <tr>\n",
       "      <th>5</th>\n",
       "      <td>Ford Motor</td>\n",
       "      <td>3</td>\n",
       "      <td>1</td>\n",
       "      <td>1</td>\n",
       "      <td>4.4</td>\n",
       "      <td>2700</td>\n",
       "    </tr>\n",
       "    <tr>\n",
       "      <th>6</th>\n",
       "      <td>PepsiCo</td>\n",
       "      <td>3</td>\n",
       "      <td>1</td>\n",
       "      <td>1</td>\n",
       "      <td>4.1</td>\n",
       "      <td>2400</td>\n",
       "    </tr>\n",
       "    <tr>\n",
       "      <th>7</th>\n",
       "      <td>Google</td>\n",
       "      <td>3</td>\n",
       "      <td>1</td>\n",
       "      <td>1</td>\n",
       "      <td>4.4</td>\n",
       "      <td>1800</td>\n",
       "    </tr>\n",
       "    <tr>\n",
       "      <th>8</th>\n",
       "      <td>Life Insurance Corporation of India</td>\n",
       "      <td>3</td>\n",
       "      <td>1</td>\n",
       "      <td>1</td>\n",
       "      <td>4.4</td>\n",
       "      <td>1800</td>\n",
       "    </tr>\n",
       "    <tr>\n",
       "      <th>9</th>\n",
       "      <td>Parle Agro</td>\n",
       "      <td>3</td>\n",
       "      <td>1</td>\n",
       "      <td>1</td>\n",
       "      <td>4.1</td>\n",
       "      <td>1800</td>\n",
       "    </tr>\n",
       "  </tbody>\n",
       "</table>\n",
       "</div>"
      ],
      "text/plain": [
       "                          company_name  overall_score  good_work_life_balance  \\\n",
       "0                               Amazon              3                       1   \n",
       "1                        Vodafone Idea              3                       1   \n",
       "2                                Cipla              3                       1   \n",
       "3                Intas Pharmaceuticals              3                       1   \n",
       "4                              Viatris              3                       1   \n",
       "5                           Ford Motor              3                       1   \n",
       "6                              PepsiCo              3                       1   \n",
       "7                               Google              3                       1   \n",
       "8  Life Insurance Corporation of India              3                       1   \n",
       "9                           Parle Agro              3                       1   \n",
       "\n",
       "   good_salary_and_benefits  rating  reviews  \n",
       "0                         1     4.1    23800  \n",
       "1                         1     4.1    14800  \n",
       "2                         1     4.1     6500  \n",
       "3                         1     4.1     3200  \n",
       "4                         1     4.2     2900  \n",
       "5                         1     4.4     2700  \n",
       "6                         1     4.1     2400  \n",
       "7                         1     4.4     1800  \n",
       "8                         1     4.4     1800  \n",
       "9                         1     4.1     1800  "
      ]
     },
     "execution_count": 20,
     "metadata": {},
     "output_type": "execute_result"
    }
   ],
   "source": [
    "spark.sql(\"\"\"\n",
    "SELECT \n",
    "    rs.company_name, \n",
    "    rs.overall_score,\n",
    "    rs.good_work_life_balance,\n",
    "    rs.good_salary_and_benefits,\n",
    "    jr.rating, \n",
    "    jr.reviews\n",
    "FROM \n",
    "    it_job_ratings.review_scores rs\n",
    "JOIN \n",
    "    it_job_ratings.job_ratings jr\n",
    "ON \n",
    "    rs.company_name = jr.company_name\n",
    "WHERE rs.overall_score = 3 AND rs.good_work_life_balance = 1 AND rs.good_salary_and_benefits = 1 AND jr.rating > 4\n",
    "ORDER BY \n",
    "    rs.overall_score DESC,\n",
    "    jr.reviews DESC,\n",
    "    jr.rating DESC\n",
    "    LIMIT 10\n",
    "\"\"\").toPandas()"
   ]
  },
  {
   "cell_type": "markdown",
   "id": "1f85fd5e-5b28-4112-a1ce-943d584cb6ff",
   "metadata": {},
   "source": [
    "## Identifying most common highly rated factors and critically rated factors"
   ]
  },
  {
   "cell_type": "code",
   "execution_count": 23,
   "id": "1fd6f1b0-0923-4c56-a089-31847305c866",
   "metadata": {},
   "outputs": [
    {
     "name": "stderr",
     "output_type": "stream",
     "text": [
      "                                                                                \r"
     ]
    },
    {
     "name": "stdout",
     "output_type": "stream",
     "text": [
      "Max highly rated factor: good_job_security with value 322\n"
     ]
    }
   ],
   "source": [
    "highly_rated = spark.sql(\"\"\"\n",
    "SELECT \n",
    "    SUM(good_salary_and_benefits) AS good_salary_and_benefits,\n",
    "    SUM(good_work_life_balance) AS good_work_life_balance,\n",
    "    SUM(good_job_security) AS good_job_security,\n",
    "    SUM(good_company_culture) AS good_company_culture,\n",
    "    SUM(good_promotions_appraisal) AS good_promotions_appraisal,\n",
    "    SUM(good_skill_development_learning) AS good_skill_development_learning,\n",
    "    SUM(good_work_satisfaction) AS good_work_satisfaction\n",
    "FROM it_job_ratings.review_scores\n",
    "\"\"\").toPandas().to_dict(orient='records')[0]\n",
    "\n",
    "most_common_highly_rated = max(highly_rated, key=highly_rated.get)\n",
    "\n",
    "print(f\"Max highly rated factor: {most_common_highly_rated} with value {highly_rated[most_common_highly_rated]}\")"
   ]
  },
  {
   "cell_type": "code",
   "execution_count": 24,
   "id": "a0d33730-06d4-4788-9065-19d30f40102a",
   "metadata": {},
   "outputs": [
    {
     "name": "stderr",
     "output_type": "stream",
     "text": [
      "                                                                                \r"
     ]
    },
    {
     "name": "stdout",
     "output_type": "stream",
     "text": [
      "Max critically rated factor: bad_promotions_appraisal with value 357\n"
     ]
    }
   ],
   "source": [
    "critically_rated = spark.sql(\"\"\"\n",
    "SELECT \n",
    "    SUM(bad_salary_and_benefits) AS bad_salary_and_benefits,\n",
    "    SUM(bad_work_life_balance) AS bad_work_life_balance,\n",
    "    SUM(bad_job_security) AS bad_job_security,\n",
    "    SUM(bad_company_culture) AS bad_company_culture,\n",
    "    SUM(bad_promotions_appraisal) AS bad_promotions_appraisal,\n",
    "    SUM(bad_skill_development_learning) AS bad_skill_development_learning,\n",
    "    SUM(bad_work_satisfaction) AS bad_work_satisfaction\n",
    "FROM it_job_ratings.review_scores\n",
    "\"\"\").toPandas().to_dict(orient='records')[0]\n",
    "\n",
    "most_common_critically_rated = max(critically_rated, key=critically_rated.get)\n",
    "\n",
    "print(f\"Max critically rated factor: {most_common_critically_rated} with value {critically_rated[most_common_critically_rated]}\")"
   ]
  },
  {
   "cell_type": "code",
   "execution_count": null,
   "id": "f97ed990-e7fb-4aa9-8032-748e2e499fd7",
   "metadata": {},
   "outputs": [],
   "source": []
  }
 ],
 "metadata": {
  "kernelspec": {
   "display_name": "Python 3 (ipykernel)",
   "language": "python",
   "name": "python3"
  },
  "language_info": {
   "codemirror_mode": {
    "name": "ipython",
    "version": 3
   },
   "file_extension": ".py",
   "mimetype": "text/x-python",
   "name": "python",
   "nbconvert_exporter": "python",
   "pygments_lexer": "ipython3",
   "version": "3.11.2"
  }
 },
 "nbformat": 4,
 "nbformat_minor": 5
}
